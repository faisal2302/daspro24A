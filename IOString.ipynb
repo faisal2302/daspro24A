{
 "cells": [
  {
   "cell_type": "code",
   "execution_count": 2,
   "id": "4d12007e",
   "metadata": {},
   "outputs": [
    {
     "name": "stdout",
     "output_type": "stream",
     "text": [
      "Isikan Nama Anda:vv\n",
      "Selamat Datang  vv\n",
      "123Andi||Budi||Rudi\n"
     ]
    }
   ],
   "source": [
    "name = input(\"Isikan Nama Anda:\")\n",
    "print(\"Selamat Datang \",name) #menggabungkan vaariabel dengan string\n",
    "\n",
    "print(\"1\", end = '')#mencetak disamping karakter\n",
    "print(\"2\", end = '')\n",
    "print(\"3\", end = '')\n",
    "\n",
    "#Separator\n",
    "print(\"Andi\",\"Budi\",\"Rudi\",sep=\"||\")\n"
   ]
  },
  {
   "cell_type": "markdown",
   "id": "3b88b690",
   "metadata": {},
   "source": [
    "<h1>String Format</h1>"
   ]
  },
  {
   "cell_type": "code",
   "execution_count": 5,
   "id": "35b3c5bf",
   "metadata": {},
   "outputs": [
    {
     "name": "stdout",
     "output_type": "stream",
     "text": [
      "Isikan Bilangan 1:4\n",
      "Isikan Bilangan 2:3\n",
      "Hasil Penjumlahan 4 + 3 = 7\n",
      "Hasil Penjumlahan 4 + 3 = 7\n"
     ]
    }
   ],
   "source": [
    "val1 = int(input(\"Isikan Bilangan 1:\"))\n",
    "val2 = int(input(\"Isikan Bilangan 2:\"))\n",
    "\n",
    "#Hasil penjumlahan\n",
    "print(\"Hasil Penjumlahan\",val1,\"+\",val2,\"=\",val1+val2)\n",
    "#String format menggunakan tanda{}\n",
    "print(\"Hasil Penjumlahan {} + {} = {}\".format(val1,val2,val1+val2))"
   ]
  },
  {
   "cell_type": "markdown",
   "id": "aa0034e6",
   "metadata": {},
   "source": [
    "<h1>String Format Index</h1>"
   ]
  },
  {
   "cell_type": "code",
   "execution_count": 11,
   "id": "58ac1a78",
   "metadata": {},
   "outputs": [
    {
     "name": "stdout",
     "output_type": "stream",
     "text": [
      "Isikan Nama Depan:d\n",
      "Isikan Nama Tengah:f\n",
      "Isikan Nama Belakang:c\n",
      "Nama Anda : d f c\n",
      "Nama Anda : f d c\n",
      "Nama Anda :d f c\n"
     ]
    }
   ],
   "source": [
    "fName = input(\"Isikan Nama Depan:\")\n",
    "mName = input(\"Isikan Nama Tengah:\")\n",
    "lName = input(\"Isikan Nama Belakang:\")\n",
    "\n",
    "print(\"Nama Anda : {} {} {}\".format(fName,mName,lName))\n",
    "#Menggunakan index\n",
    "print(\"Nama Anda : {1} {0} {2}\".format(fName,mName,lName))\n",
    "#Menggunakan key\n",
    "print(\"Nama Anda :{depan} {tengah} {belakang}\".format(belakang=lName,depan=fName,tengah=mName))"
   ]
  },
  {
   "cell_type": "markdown",
   "id": "1d1b2d02",
   "metadata": {},
   "source": [
    "<h3>Slicing</h3><br>\n",
    "Mengambil String/karakter dari string berdasarkan index"
   ]
  },
  {
   "cell_type": "code",
   "execution_count": 14,
   "id": "43910bf2",
   "metadata": {},
   "outputs": [
    {
     "name": "stdout",
     "output_type": "stream",
     "text": [
      "Isikan Nama Kampus Anda:nusput\n",
      "n\n",
      "nuspu\n",
      "t\n",
      "usput\n"
     ]
    }
   ],
   "source": [
    "university = input(\"Isikan Nama Kampus Anda:\")\n",
    "#Mencetak karakter pertama\n",
    "print(university[0])\n",
    "#Mencetak karakter dari pertama sampai ke 5\n",
    "print(university[0:5])\n",
    "#Mencetak karakter paling akhir\n",
    "print(university[-1])\n",
    "#Mencetak karakter ke 2 sampai selesai\n",
    "print(university[1:])"
   ]
  },
  {
   "cell_type": "markdown",
   "id": "895a97a2",
   "metadata": {},
   "source": [
    "<h3>Fungsi String</h3>"
   ]
  },
  {
   "cell_type": "code",
   "execution_count": 23,
   "id": "8983038e",
   "metadata": {},
   "outputs": [
    {
     "name": "stdout",
     "output_type": "stream",
     "text": [
      "Isikan Nama Lengkap :A B C\n",
      "Nama Depan A\n",
      "Nama Tengah B\n",
      "Nama Belakang C\n",
      "Nama Anda Adalah A B C\n",
      "5\n"
     ]
    }
   ],
   "source": [
    "fullName = input(\"Isikan Nama Lengkap :\")\n",
    "#split - untuk memisahkan string berdasarkan karakter tertentu\n",
    "name = fullName.split(' ')\n",
    "print(\"Nama Depan\",name[0])\n",
    "print(\"Nama Tengah\",name[1])\n",
    "print(\"Nama Belakang\",name[2])\n",
    "\n",
    "#print fstring\n",
    "print(f\"Nama Anda Adalah {fullName}\")#Sering Digunakan\n",
    "\n",
    "#find untuk mencari karakter dalam string\n",
    "#jika ditemukan akan mengembalikan posisi index\n",
    "#jika tidak ditemukan mengembalikan nilai -1\n",
    "\n",
    "platMobil = \"N2876BS\"\n",
    "print(platMobil.find(\"B\"))\n",
    "\n",
    "#Buatlah program untuk mengecek email valid atau tidak (Operator Ternary)\n",
    "#posisi \"@\" selalu didepan \".\"\n",
    "#alun@gmail.com -> valid\n",
    "#alun.me@gmail.com -> Tidak valid\n",
    "#dst."
   ]
  },
  {
   "cell_type": "code",
   "execution_count": 26,
   "id": "1893a9d1",
   "metadata": {},
   "outputs": [
    {
     "name": "stdout",
     "output_type": "stream",
     "text": [
      "isikan email anda :alun.gmail.com\n",
      "Posisi '@': -1\n",
      "Posisi '.': 4\n",
      "Email tidak valid\n"
     ]
    }
   ],
   "source": [
    "email = input(\"isikan email anda :\")\n",
    "cek1 = email.find(\"@\")\n",
    "cek2 = email.find(\".\")\n",
    "print(\"Posisi '@':\", cek1)\n",
    "print(\"Posisi '.':\", cek2)\n",
    "\n",
    "cekValid = \"Email Valid\" if cek1 > -1 and cek1 < cek2 else\"Email tidak valid\"\n",
    "print(cekValid)"
   ]
  },
  {
   "cell_type": "code",
   "execution_count": 46,
   "id": "5b755deb",
   "metadata": {},
   "outputs": [
    {
     "name": "stdout",
     "output_type": "stream",
     "text": [
      "Hasil dari nilai acak adalah 0.4917722288204648\n",
      "58\n",
      "Hasil dari nilai acak bulat adalah 58\n",
      "Hasil dari acak Bulan adalah Des\n",
      "Hasil dari acak Bulan adalah ['Tue', 2]\n",
      "berapakah 21 - 41 :\n",
      "Isikan Hasilnya:-20\n",
      "Anda benar!!!\n"
     ]
    }
   ],
   "source": [
    "from random import random #Mengacak nilai float\n",
    "nilai = random()\n",
    "print(f\"Hasil dari nilai acak adalah {nilai}\")\n",
    "\n",
    "from random import randint\n",
    "nilaiInt = randint(0,100)\n",
    "print(nilaiInt)\n",
    "print(f\"Hasil dari nilai acak bulat adalah {nilaiInt}\")\n",
    "\n",
    "from random import choice\n",
    "month = [\"Jan\",\"Feb\",\"Mar\",\"Apr\",\"May\",\"Jun\",\"Jul\",\"Aug\",\"Sep\",\"Oct\",\"Nov\",\"Des\"]\n",
    "day = [[\"Mon\",1],[\"Tue\",2],[\"Wed\",3],[\"Thu\",4],[\"Fri\",5],[\"Sat\",6],[\"Sun\",7]]\n",
    "sMonth = choice(month)\n",
    "sDay = choice(day)\n",
    "print(f\"Hasil dari acak Bulan adalah {sMonth}\")\n",
    "print(f\"Hasil dari acak Bulan adalah {sDay}\")\n",
    "\n",
    "nilai1 = randint(0,100)\n",
    "nilai2 = randint(0,100)\n",
    "operator = [\"+\",\"-\",\"*\",\"/\"]\n",
    "sOperator = choice(operator)\n",
    "print(f\"berapakah {nilai1}  {nilai2} :\")\n",
    "jawab = int(input(\"Isikan Hasilnya:\"))\n",
    "\n",
    "#IF ELSE\n",
    "if sOperator == \"+\":\n",
    "    cekJawab = \"Anda benar!!!\"if jawab == nilai1 + nilai2 else \"Anda salah!!!\"\n",
    "elif sOperator == \"-\":\n",
    "    cekJawab = \"Anda benar!!!\"if jawab == nilai1 - nilai2 else \"Anda salah!!!\"\n",
    "elif sOperator ==\"*\":\n",
    "    cekJawab = \"Anda benar!!!\"if jawab == nilai1 * nilai2 else \"Anda salah!!!\"\n",
    "elif sOperator ==\"/\":\n",
    "    cekJawab = \"Anda benar!!!\"if jawab == nilai1 // nilai2 else \"Anda salah!!!\"\n",
    "    \n",
    "print(cekJawab)"
   ]
  },
  {
   "cell_type": "markdown",
   "id": "1936d3db",
   "metadata": {},
   "source": [
    "<h1>Random</h1>"
   ]
  },
  {
   "cell_type": "code",
   "execution_count": 49,
   "id": "d56a0a0d",
   "metadata": {},
   "outputs": [
    {
     "name": "stdout",
     "output_type": "stream",
     "text": [
      "Apa bahasa Inggris nya Minum\n",
      "Masukan Jawabandrink\n",
      "Anda benar !!\n"
     ]
    }
   ],
   "source": [
    "kata = [\"Makan\",\"Minum\",\"Merokok\"]\n",
    "sKata = choice(kata)\n",
    "print(f\"Apa bahasa Inggris nya {sKata}\")\n",
    "jawab = input(\"Masukan Jawaban\")\n",
    "\n",
    "if sKata == \"Makan\":\n",
    "    cekJawab = \"Anda benar !!\" if jawab ==\"eat\" else \"Anda salah !!\"\n",
    "elif sKata == \"Minum\":\n",
    "    cekJawab = \"Anda benar !!\" if jawab ==\"drink\" else \"Anda salah !!\"\n",
    "elif sKata == \"Merokok\":\n",
    "    cekJawab = \"Anda benar !!\" if jawab ==\"smoking\" else \"Anda salah !!\"\n",
    "print(cekJawab)"
   ]
  },
  {
   "cell_type": "markdown",
   "id": "169b50d7",
   "metadata": {},
   "source": [
    "<h3>Latihan Random</h3>"
   ]
  },
  {
   "cell_type": "code",
   "execution_count": 52,
   "id": "18162078",
   "metadata": {},
   "outputs": [
    {
     "name": "stdout",
     "output_type": "stream",
     "text": [
      "ENG -> IND (1) , IND -> ENG(2)2\n",
      "Apa arti dari membaca?\n",
      "Isikan Jawaban: reading\n",
      "Anda Benar!!\n"
     ]
    }
   ],
   "source": [
    "from random import choice\n",
    "kamus = [[\"makan\",\"eat\"],[\"minum\",\"drink\"],[\"membaca\",\"reading\"],[\"berenang\",\"swiming\"]]\n",
    "sKamus =choice(kamus)\n",
    "pilihan = int(input(\"ENG -> IND (1) , IND -> ENG(2)\"))\n",
    "if pilihan ==1:\n",
    "    print(f\"Apa arti dari {sKamus[1]}?\")\n",
    "    jawab = input(\"Isikan Jawaban: \")\n",
    "    cekTranslate = \"Anda Benar!!\" if jawab.lower() == sKamus[0] else \"Anda Salah!!\"\n",
    "elif pilihan ==2:\n",
    "    print(f\"Apa arti dari {sKamus[0]}?\")\n",
    "    jawab = input(\"Isikan Jawaban: \")\n",
    "    cekTranslate = \"Anda Benar!!\" if jawab.lower() == sKamus[1] else \"Anda Sala!!\"\n",
    "print(cekTranslate)"
   ]
  },
  {
   "cell_type": "code",
   "execution_count": null,
   "id": "2e7954de",
   "metadata": {},
   "outputs": [],
   "source": []
  }
 ],
 "metadata": {
  "kernelspec": {
   "display_name": "Python 3 (ipykernel)",
   "language": "python",
   "name": "python3"
  },
  "language_info": {
   "codemirror_mode": {
    "name": "ipython",
    "version": 3
   },
   "file_extension": ".py",
   "mimetype": "text/x-python",
   "name": "python",
   "nbconvert_exporter": "python",
   "pygments_lexer": "ipython3",
   "version": "3.9.12"
  }
 },
 "nbformat": 4,
 "nbformat_minor": 5
}
