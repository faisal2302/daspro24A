{
 "cells": [
  {
   "cell_type": "markdown",
   "id": "5854a90d-e435-44ae-9e31-3bc520e011b1",
   "metadata": {
    "id": "5854a90d-e435-44ae-9e31-3bc520e011b1"
   },
   "source": [
    "<h1>No.1</h1>\n",
    "Buatlah program yang meminta pengguna memasukkan usia seseorang, lalu tentukan apakah dia <br>\n",
    "anak-anak (0-12 tahun), remaja (13-17 tahun), dewasa (18-59 tahun), atau lansia (60 tahun ke atas)."
   ]
  },
  {
   "cell_type": "code",
   "execution_count": 17,
   "id": "75a2fdcd-1ef1-45e4-9d79-c6a7cb708a18",
   "metadata": {
    "id": "75a2fdcd-1ef1-45e4-9d79-c6a7cb708a18"
   },
   "outputs": [
    {
     "name": "stdin",
     "output_type": "stream",
     "text": [
      "Masukan Usia Anda : 60\n"
     ]
    },
    {
     "name": "stdout",
     "output_type": "stream",
     "text": [
      "Kategori Usia anda yaitu : lansia\n"
     ]
    }
   ],
   "source": [
    "usia = int(input(\"Masukan Usia Anda :\"))\n",
    "if usia <= 12:\n",
    "    cekUsia = \"anak-anak\"\n",
    "elif usia <= 17 :\n",
    "    cekUsia = \"remaja\"\n",
    "elif usia <= 59 :\n",
    "    cekUsia = \"dewasa\"\n",
    "elif usia >= 60 :\n",
    "    cekUsia = \"lansia\"\n",
    "print(\"Kategori Usia anda yaitu :\",cekUsia)"
   ]
  },
  {
   "cell_type": "markdown",
   "id": "68c95835-e4ad-4bd0-89ca-168200893cf7",
   "metadata": {
    "id": "68c95835-e4ad-4bd0-89ca-168200893cf7"
   },
   "source": [
    "<h1>No.2</h1>\n",
    "Sebuah taman hiburan memiliki aturan harga tiket berdasarkan usia:\n",
    "<ol>\n",
    "<li>Anak-anak (0-12 tahun): Rp 10.000</li>\n",
    "<li>Remaja (13-17 tahun): Rp 15.000</li>\n",
    "<li>Dewasa (18-59 tahun): Rp 25.000</li>\n",
    "<li>Lansia (60 tahun ke atas): Gratis</li>\n",
    "</ol>\n",
    "Buat program untuk menentukan harga tiket berdasarkan usia yang dimasukkan pengguna dan total harga yang harus dibayar, jika terdapat 3 input seperti berikut ini"
   ]
  },
  {
   "cell_type": "code",
   "execution_count": 1,
   "id": "66ee699f-8355-48e0-939a-dcc73ba4425b",
   "metadata": {
    "id": "66ee699f-8355-48e0-939a-dcc73ba4425b"
   },
   "outputs": [
    {
     "name": "stdin",
     "output_type": "stream",
     "text": [
      "Isikan Umur Tiket 1: 7\n",
      "Isikan Umur Tiket 2: 21\n",
      "Isikan Umur Tiket 3: 70\n"
     ]
    },
    {
     "name": "stdout",
     "output_type": "stream",
     "text": [
      "Anak-anak : 10000\n",
      "Dewasa : 25000\n",
      "Lansia : 0\n",
      "Jadi totalnya adalah :Rp. 35000\n"
     ]
    }
   ],
   "source": [
    "tiket1 = int(input(\"Isikan Umur Tiket 1:\"))\n",
    "tiket2 = int(input(\"Isikan Umur Tiket 2:\"))\n",
    "tiket3 = int(input(\"Isikan Umur Tiket 3:\"))\n",
    "\n",
    "if tiket1 <= 12 :\n",
    "    harga1 = 10000\n",
    "    print(\"Anak-anak :\",harga1)\n",
    "elif 13 <= tiket1 <= 17 :\n",
    "    harga1 = 15000\n",
    "    print(\"Remaja :\",harga1)\n",
    "elif 18 <= tiket1 <= 59 :\n",
    "    harga1 = 25000\n",
    "    print(\"Dewasa :\",harga1)\n",
    "elif tiket1 >= 60 :\n",
    "    harga1 = 0\n",
    "    print(\"Lansia :\",harga1)\n",
    "\n",
    "if tiket2 <= 12 :\n",
    "    harga2 = 10000\n",
    "    print(\"Anak-anak :\",harga2)\n",
    "elif 13 <= tiket2 <= 17 :\n",
    "    harga2 = 15000\n",
    "    print(\"Remaja :\",harga2)\n",
    "elif 18 <= tiket2 <= 59 :\n",
    "    harga2 = 25000\n",
    "    print(\"Dewasa :\",harga2)\n",
    "elif tiket2 >= 60 :\n",
    "    harga2 = 0\n",
    "    print(\"Lansia :\",harga2)\n",
    "\n",
    "if tiket3 <= 12 :\n",
    "    harga3 = 10000\n",
    "    print(\"Anak-anak :\",harga3)\n",
    "elif 13 <= tiket3 <= 17 :\n",
    "    harga3 = 15000\n",
    "    print(\"Remaja :\",harga3)\n",
    "elif 18 <= tiket3 <= 59 :\n",
    "    harga3 = 25000\n",
    "    print(\"Dewasa :\",harga3)\n",
    "elif tiket3 >= 60 :\n",
    "    harga3 = 0\n",
    "    print(\"Lansia :\",harga3)\n",
    "\n",
    "print(\"Jadi totalnya adalah :Rp.\", harga1 + harga2 + harga3)"
   ]
  },
  {
   "cell_type": "markdown",
   "id": "82eac646-d930-42f5-a253-03f84c32f943",
   "metadata": {
    "id": "82eac646-d930-42f5-a253-03f84c32f943"
   },
   "source": [
    "<h1>No.3</h1>\n",
    "Sebuah restoran memiliki diskon khusus:\n",
    "Anak-anak (0-12 tahun) diskon 50%\n",
    "Lansia (60 tahun ke atas) diskon 30%\n",
    "Selain itu, tidak ada diskon\n",
    "Buat program untuk menghitung harga yang harus dibayar setelah diskon diberikan."
   ]
  },
  {
   "cell_type": "code",
   "execution_count": 15,
   "id": "feb31fca-fce6-4e5f-a25f-8752e7a0033b",
   "metadata": {
    "id": "feb31fca-fce6-4e5f-a25f-8752e7a0033b"
   },
   "outputs": [
    {
     "name": "stdin",
     "output_type": "stream",
     "text": [
      "Masukkan umur anda : 10\n"
     ]
    },
    {
     "name": "stdout",
     "output_type": "stream",
     "text": [
      "\n",
      "=====LIST MENU MAKAN=====\n",
      "nasi goreng (1)\n",
      "nasi uduk (2)\n",
      "mie kuah (3)\n",
      "mie goreng (4)\n",
      "\n"
     ]
    },
    {
     "name": "stdin",
     "output_type": "stream",
     "text": [
      "Pilih Menu Makan : 2\n"
     ]
    },
    {
     "name": "stdout",
     "output_type": "stream",
     "text": [
      "\n",
      "=====LIST MENU MINUM=====\n",
      "susu (1)\n",
      "es kelapa (2)\n",
      "jus (3)\n",
      "\n"
     ]
    },
    {
     "name": "stdin",
     "output_type": "stream",
     "text": [
      "Pilih Menu Minum : 3\n"
     ]
    },
    {
     "name": "stdout",
     "output_type": "stream",
     "text": [
      "===========================================\n",
      "Total dari pesanan anda dengan diskon sebesar 50% yaitu 10000.0\n"
     ]
    }
   ],
   "source": [
    "menuMakan = [[\"nasi goreng\",15000],[\"nasi uduk\",13000],[\"mie kuah\",12000],[\"mie goreng\",12000]]\n",
    "menuMinum = [[\"susu\",4000],[\"es kelapa\",5000],[\"jus\",7000]]\n",
    "\n",
    "umur = int(input(\"Masukkan umur anda :\"))\n",
    "\n",
    "print(\"\")\n",
    "print(\"=====LIST MENU MAKAN=====\")\n",
    "print(\"nasi goreng (1)\") \n",
    "print(\"nasi uduk (2)\")\n",
    "print(\"mie kuah (3)\")\n",
    "print(\"mie goreng (4)\")\n",
    "print(\"\")\n",
    "makan = int(input(\"Pilih Menu Makan :\"))\n",
    "\n",
    "if makan == 1:\n",
    "    hargaMakan = menuMakan [0][1]\n",
    "elif makan == 2:\n",
    "    hargaMakan = menuMakan [1][1]\n",
    "elif makan == 3:\n",
    "    hargaMakan = menuMakan [2][1]\n",
    "elif makan == 4:\n",
    "    hargaMakan = menuMakan [3][1]\n",
    "    \n",
    "print(\"\")\n",
    "print(\"=====LIST MENU MINUM=====\")\n",
    "print(\"susu (1)\") \n",
    "print(\"es kelapa (2)\")\n",
    "print(\"jus (3)\")\n",
    "print(\"\")\n",
    "minum = int(input(\"Pilih Menu Minum :\"))\n",
    "\n",
    "if minum == 1:\n",
    "    hargaMinum = menuMinum [0][1]\n",
    "elif minum == 2:\n",
    "    hargaMinum = menuMinum [1][1]\n",
    "elif minum == 3:\n",
    "    hargaMinum = menuMinum [2][1]\n",
    "\n",
    "if umur <= 12 :\n",
    "    diskon = 50\n",
    "    diskonRp = (hargaMakan + hargaMinum) * 50 / 100\n",
    "elif 13 <= umur <= 59:\n",
    "    diskon = 0\n",
    "    diskonRp = 0\n",
    "elif umur >= 60 :\n",
    "    diskon = 30\n",
    "    diskonRp = (hargaMakan + hargaMinum) * 30 / 100\n",
    "\n",
    "total = (hargaMakan + hargaMinum) - diskonRp\n",
    "print(\"===========================================\")\n",
    "print(f\"Total dari pesanan anda dengan diskon sebesar {diskon}% yaitu {total}\")"
   ]
  },
  {
   "cell_type": "markdown",
   "id": "aee8bab3-9bf1-4732-97e1-7abb32ce7184",
   "metadata": {
    "id": "aee8bab3-9bf1-4732-97e1-7abb32ce7184"
   },
   "source": [
    "<h1>No.4</h1>\n",
    "Program beasiswa:\n",
    "<ol>\n",
    "<li>Jika nilai rapor ≥ 90 dan penghasilan orang tua < Rp 5.000.000 → Beasiswa Penuh</li>\n",
    "<li>Jika nilai rapor ≥ 85 dan penghasilan orang tua < Rp 8.000.000 → Beasiswa 50%</li>\n",
    "<li>Jika tidak memenuhi syarat di atas → Tidak mendapatkan beasiswa</li>\n",
    "</ol>"
   ]
  },
  {
   "cell_type": "code",
   "execution_count": 19,
   "id": "55a9ec4f-531b-4326-bca3-e0d19b4be47d",
   "metadata": {
    "id": "55a9ec4f-531b-4326-bca3-e0d19b4be47d"
   },
   "outputs": [
    {
     "name": "stdin",
     "output_type": "stream",
     "text": [
      "Isikan Nilai Rapor : 99\n",
      "Isikan Penghasilan Orang Tua : 3000000\n"
     ]
    },
    {
     "name": "stdout",
     "output_type": "stream",
     "text": [
      "Selamat Anda mendapatkan Beasiswa Penuh.\n"
     ]
    }
   ],
   "source": [
    "nilai = int(input(\"Isikan Nilai Rapor :\"))\n",
    "penghasilan = int(input(\"Isikan Penghasilan Orang Tua :\"))\n",
    "\n",
    "if nilai >= 90 and penghasilan < 5000000:\n",
    "    print(\"Selamat Anda mendapatkan Beasiswa Penuh.\")\n",
    "elif nilai >= 85 and penghasilan < 8000000:\n",
    "    print(\"Selamat Anda mendapatkan Beasiswa 50%.\")\n",
    "else:\n",
    "    print(\"Tidak mendapatkan Beasiswa.\")"
   ]
  },
  {
   "cell_type": "markdown",
   "id": "57ea9062-e1af-4650-8eab-a47a01a9d04f",
   "metadata": {
    "id": "57ea9062-e1af-4650-8eab-a47a01a9d04f"
   },
   "source": [
    "<h1>No.5</h1>\n",
    "Suatu aplikasi streaming memiliki batasan usia:\n",
    "<ol>\n",
    "<li>Film Semua Umur: Bisa ditonton oleh siapa saja</li>\n",
    "<li>Film Remaja: Hanya untuk usia ≥ 13 tahun</li>\n",
    "<li>Film Dewasa: Hanya untuk usia ≥ 18 tahun</li>\n",
    "</ol>\n",
    "Buat program yang meminta input usia dan kategori film, lalu tentukan apakah seseorang boleh menonton film tersebut atau tidak."
   ]
  },
  {
   "cell_type": "code",
   "execution_count": 23,
   "id": "2c00f464-3390-4c94-9ec2-4b63c55b871b",
   "metadata": {
    "id": "2c00f464-3390-4c94-9ec2-4b63c55b871b"
   },
   "outputs": [
    {
     "name": "stdin",
     "output_type": "stream",
     "text": [
      "Masukan Umur Penonton : 12\n",
      "Masukan Kategori Film (Semua Umur/Remaja/Dewasa) : Semua Umur\n"
     ]
    },
    {
     "name": "stdout",
     "output_type": "stream",
     "text": [
      "Anda boleh Menonton\n"
     ]
    }
   ],
   "source": [
    "umur = int(input(\"Masukan Umur Penonton :\"))\n",
    "kategoriFilm = input(\"Masukan Kategori Film (Semua Umur/Remaja/Dewasa) :\")\n",
    "\n",
    "if kategoriFilm == \"Semua Umur\":\n",
    "    print(\"Anda boleh Menonton\") \n",
    "elif kategoriFilm == \"Remaja\" and umur >= 13:\n",
    "    print(\"Anda boleh Menonton\")\n",
    "elif kategoriFilm == \"Dewasa\" and umur >= 18:\n",
    "    print(\"Anda boleh Menonton\")\n",
    "else:\n",
    "    print(\"Anda Tidak boleh Menonton Film ini.\")"
   ]
  },
  {
   "cell_type": "markdown",
   "id": "7b87c04c-85f0-4dc1-a14a-f67d8b2c4e6a",
   "metadata": {
    "id": "7b87c04c-85f0-4dc1-a14a-f67d8b2c4e6a"
   },
   "source": [
    "<h1>No.6</h1>\n",
    "Sebuah toko memberikan diskon berdasarkan jumlah pembelian:\n",
    "<ol>\n",
    "<li>Jika total belanja ≥ Rp 500.000 → Diskon 20%</li>\n",
    "<li>Jika total belanja ≥ Rp 250.000 → Diskon 10%</li>\n",
    "<li>Jika total belanja < Rp 250.000 → Tidak ada diskon</li>\n",
    "</ol>\n",
    "Hitung harga akhir setelah diskon."
   ]
  },
  {
   "cell_type": "code",
   "execution_count": 25,
   "id": "966923a0-c87b-4559-8fc1-3090d448ad4a",
   "metadata": {
    "id": "966923a0-c87b-4559-8fc1-3090d448ad4a"
   },
   "outputs": [
    {
     "name": "stdin",
     "output_type": "stream",
     "text": [
      "Masukkan Total Harga Pembelian : Rp 250000\n"
     ]
    },
    {
     "name": "stdout",
     "output_type": "stream",
     "text": [
      "\n",
      "Diskon Yang Di Dapat Yaitu 10%\n",
      "Total Yang Harus Di Bayar Yaitu Rp225000.0\n"
     ]
    }
   ],
   "source": [
    "pembelian = int(input(\"Masukkan Total Harga Pembelian : Rp\"))\n",
    "if pembelian >= 500000 :\n",
    "    persen = \"20%\"\n",
    "    diskon = pembelian * 20 / 100\n",
    "elif pembelian >= 250000 :\n",
    "    persen = \"10%\"\n",
    "    diskon = pembelian * 10 / 100\n",
    "elif pembelian < 250000 :\n",
    "    persen = \"0%\"\n",
    "    diskon = 0\n",
    "\n",
    "total = pembelian - diskon\n",
    "print(\"\")\n",
    "print(f\"Diskon Yang Di Dapat Yaitu {persen}\")\n",
    "print(f\"Total Yang Harus Di Bayar Yaitu Rp{total}\")"
   ]
  },
  {
   "cell_type": "markdown",
   "id": "88e22629-48cc-4917-86e7-2bf4df863182",
   "metadata": {
    "id": "88e22629-48cc-4917-86e7-2bf4df863182"
   },
   "source": [
    "<h1>No.7</h1>\n",
    "Program parkir:\n",
    "<ol>\n",
    "<li>Mobil: Rp 5.000 per jam</li>\n",
    "<li>Motor: Rp 2.000 per jam</li>\n",
    "<li>Jika parkir lebih dari 5 jam, ada biaya tambahan Rp 10.000</li>\n",
    "</ol>\n",
    "Hitung total biaya parkir berdasarkan jenis kendaraan dan durasi parkir."
   ]
  },
  {
   "cell_type": "code",
   "execution_count": 27,
   "id": "b8f7b918-70a1-4a88-945f-406c4aafbec7",
   "metadata": {
    "id": "b8f7b918-70a1-4a88-945f-406c4aafbec7"
   },
   "outputs": [
    {
     "name": "stdin",
     "output_type": "stream",
     "text": [
      "Apa Jenis Kendaraan Anda? Mobil (1) atau Motor (2) : 1\n",
      "Berapa lama parkir? : 2\n"
     ]
    },
    {
     "name": "stdout",
     "output_type": "stream",
     "text": [
      "Total biaya parkir yaitu Rp 10000\n"
     ]
    }
   ],
   "source": [
    "jenis = int(input(\"Apa Jenis Kendaraan Anda? Mobil (1) atau Motor (2) :\"))\n",
    "durasi = int(input(\"Berapa lama parkir? :\"))\n",
    "mobil = 5000\n",
    "motor = 2000\n",
    "if jenis == 1 :\n",
    "    tarif = mobil * durasi + 10000 if durasi > 5 else mobil * durasi\n",
    "elif jenis == 2 :\n",
    "    tarif = motor * durasi + 10000 if durasi > 5 else motor * durasi\n",
    "print(\"Total biaya parkir yaitu Rp\", tarif)"
   ]
  },
  {
   "cell_type": "markdown",
   "id": "2db1d34c-3f80-4f8c-aaf2-910c38c05414",
   "metadata": {
    "id": "2db1d34c-3f80-4f8c-aaf2-910c38c05414"
   },
   "source": [
    "<h1>No.8</h1>\n",
    "Aplikasi transportasi online memiliki tarif sebagai berikut:\n",
    "<ol>\n",
    "<li>Jika jarak ≤ 5 km → Rp 5.000/km</li>\n",
    "<li>Jika jarak 6-10 km → Rp 4.000/km</li>\n",
    "<li>Jika jarak > 10 km → Rp 3.000/km</li>\n",
    "</ol>\n",
    "Hitung tarif perjalanan berdasarkan jarak yang dimasukkan pengguna.\n"
   ]
  },
  {
   "cell_type": "code",
   "execution_count": 29,
   "id": "5a5b719e-76f6-4f45-a8e4-07853113ce9e",
   "metadata": {
    "id": "5a5b719e-76f6-4f45-a8e4-07853113ce9e"
   },
   "outputs": [
    {
     "name": "stdin",
     "output_type": "stream",
     "text": [
      "Berapa jarak perjalanan? (KM) : 5\n"
     ]
    },
    {
     "name": "stdout",
     "output_type": "stream",
     "text": [
      "Total tarif perjalanan yaitu Rp 25000\n"
     ]
    }
   ],
   "source": [
    "jarak = int(input(\"Berapa jarak perjalanan? (KM) :\"))\n",
    "if jarak <= 5 :\n",
    "    tarif = 5000 * jarak\n",
    "elif 6 <= jarak <= 10 :\n",
    "    tarif = 4000 * jarak\n",
    "elif jarak > 10 :\n",
    "    tarif = 3000 * jarak\n",
    "\n",
    "print (\"Total tarif perjalanan yaitu Rp\", tarif)"
   ]
  },
  {
   "cell_type": "markdown",
   "id": "d1cf7b61-e309-40ec-b1fd-4bc56550a10d",
   "metadata": {
    "id": "d1cf7b61-e309-40ec-b1fd-4bc56550a10d"
   },
   "source": [
    "<h1>No.9</h1>\n",
    "Buatlah sebuah sistem penerimaan calon programmer yang akan menerima dua nilai ( nilai coding dan nilai interview). Untuk penilaian test coding skala penilaian yang diberikan dimulai dari 0 hingga 100 dengan sistem penilaian:\n",
    "<ol>\n",
    "<li>ketika seseorang mendapatkan nilai lebih dari 80 maka peserta tersebut akan mendapatkan hasil tes LOLOS</li>\n",
    "<li>ketika sesorang mendapatkan nilai diantara 60 hingga 80 maka peserta tersebut mendapatkan hasil tes DIPERTIMBANGKAN</li>\n",
    "<li>ketika seseorang mendapatkan nilai dibawah 60 maka peserta tersebut mendapatkan hasil tes GAGAL.</li>\n",
    "</ol>\n",
    "\n",
    "Sedangkan untuk penilaian interview adalah\n",
    "<ol>\n",
    "<li>ketika nilai yang diberikan kepada seseorang tersebut adalah \"A\" atau \"B\" maka peserta tersebut dianggap LOLOS interview</li>\n",
    "\n",
    "<li>selain kedua nilai tersebut maka peserta dianggap GAGAL tes interview.</li>\n",
    "</ol>\n",
    "\n",
    "Ketika calon programmer mendapatkan nilai coding LOLOS atau DIPERTIMBANGKAN dan juga LOLOS test interview maka tampilkanlah pesan \"Selamat Kamu Berhasil Menjadi Calon Programmer\". Jika tidak maka tampilkanlah pesan \"Maaf Kamu Belum Berhasil Menjadi Calon Programmer\""
   ]
  },
  {
   "cell_type": "code",
   "execution_count": 31,
   "id": "7aeb0f89-e957-4c0d-a29c-139fc269e1c0",
   "metadata": {
    "id": "7aeb0f89-e957-4c0d-a29c-139fc269e1c0"
   },
   "outputs": [
    {
     "name": "stdin",
     "output_type": "stream",
     "text": [
      "Masukkan Hasil Nilai Coding : 90\n",
      "Masukkan Nilai Interview (A/B/C) : A\n"
     ]
    },
    {
     "name": "stdout",
     "output_type": "stream",
     "text": [
      "\n",
      "Hasil tes sebagai berikut, untuk test coding yaitu LOLOS dan untuk interview yaitu LOLOS\n",
      "Selamat Kamu Berhasil Menjadi Calon Programmer\n"
     ]
    }
   ],
   "source": [
    "coding = int(input(\"Masukkan Hasil Nilai Coding :\"))\n",
    "interview = input(\"Masukkan Nilai Interview (A/B/C) :\")\n",
    "\n",
    "if coding > 80 :\n",
    "    code1 = 2\n",
    "    hasil1 = \"LOLOS\"\n",
    "elif 60 <= coding <= 80 :\n",
    "    code1 = 1\n",
    "    hasil1 = \"DIPERTIMBANGKAN\"\n",
    "elif coding < 60 :\n",
    "    code1 = 0\n",
    "    hasil1 = \"GAGAL\"\n",
    "\n",
    "if interview == \"A\" or interview == \"a\" :\n",
    "    code2 = 1\n",
    "    hasil2 = \"LOLOS\"\n",
    "elif interview == \"B\" or interview == \"b\" :\n",
    "    code2 = 1\n",
    "    hasil2 = \"LOLOS\"\n",
    "elif interview != \"A\" or interview != \"a\" or interview != \"B\" or interview != \"b\" :\n",
    "    code2 = 0\n",
    "    hasil2 = \"GAGAL\"\n",
    "\n",
    "print(\"\")\n",
    "print(f\"Hasil tes sebagai berikut, untuk test coding yaitu {hasil1} dan untuk interview yaitu {hasil2}\")\n",
    "if code1 == 2 and code2 == 1 or code1 == 1 and code2 == 1 :\n",
    "    print(\"Selamat Kamu Berhasil Menjadi Calon Programmer\")\n",
    "elif code1 != 2 and code2 != 1 or code1 != 1 and code2 != 1 or code1 != 2 and code2 == 1 or code1 != 1 and code2 == 1 :\n",
    "    print(\"Maaf Kamu Belum Berhasil Menjadi Calon Programmer\")"
   ]
  },
  {
   "cell_type": "markdown",
   "id": "364647af-075b-4bc0-8c83-4c816415ff74",
   "metadata": {
    "id": "364647af-075b-4bc0-8c83-4c816415ff74"
   },
   "source": [
    "<h1>No.10</h1>\n",
    "Sebuah klub sepak bola “PERSEGI FC” mempunyai aturan dalam memberikan nomor punggung bagi para pemainnya. Para pemain diperbolehkan mempunyai posisi lebih dari 1. Berikut adalah beberapa\n",
    "aturannya:\n",
    "<ol>\n",
    "<li>Untuk nomor punggung genap, digunakan untuk posisi “target attacker”</li>\n",
    "<li>Untuk nomor punggung genap antara 50 – 100, digunakan untuk pemain yang “berhak dipilih menjadi capten team”</li>\n",
    "<li>Untuk nomor punggung ganjil, digunakan untuk posisi “defender”</li>\n",
    "<li>Untuk nomor punggung ganjil lebih dari 90, digunakan untuk posisi “Playmaker”</li>\n",
    "<li>Untuk nomor punggung ganjil kelipatan dari 3 dan 5, digunakan untuk posisi “keeper”</li>\n",
    "</ol>\n",
    "Buatlah program untuk melakukan pengecekan sebuah nomor punggung dapat berfungsi sebagai posisi apa saja."
   ]
  },
  {
   "cell_type": "code",
   "execution_count": 33,
   "id": "2d1d5589-126b-44e3-9d9e-1bed865ff65c",
   "metadata": {
    "id": "2d1d5589-126b-44e3-9d9e-1bed865ff65c"
   },
   "outputs": [
    {
     "name": "stdin",
     "output_type": "stream",
     "text": [
      "Masukkan Nomor Punggung : 60\n"
     ]
    },
    {
     "name": "stdout",
     "output_type": "stream",
     "text": [
      "Posisi Target Attacker dan Berhak dipilih menjadi Kapten Tim\n"
     ]
    }
   ],
   "source": [
    "###### nomor = int(input(\"Masukkan Nomor Punggung :\"))\n",
    "\n",
    "if nomor % 2 == 0 and 50 <= nomor <= 100 :\n",
    "    print(\"Posisi Target Attacker dan Berhak dipilih menjadi Kapten Tim\")\n",
    "elif nomor % 2 == 0 :\n",
    "    print(\"Posisi Target Attacker\")\n",
    "elif nomor % 2 != 0 and nomor % 3 == 0 and nomor % 5 == 0 :\n",
    "    print(\"Posisi Defender dan Keeper\")\n",
    "elif nomor % 2 != 0 and nomor > 90 :\n",
    "    print(\"Posisi Defender dan Playmaker\")\n",
    "elif nomor % 2 != 0 :\n",
    "    print(\"Posisi Defender\")"
   ]
  },
  {
   "cell_type": "code",
   "execution_count": null,
   "id": "2a490ad1-a204-469b-ba31-5cd81252f2ec",
   "metadata": {},
   "outputs": [],
   "source": []
  }
 ],
 "metadata": {
  "colab": {
   "provenance": []
  },
  "kernelspec": {
   "display_name": "Python [conda env:base] *",
   "language": "python",
   "name": "conda-base-py"
  },
  "language_info": {
   "codemirror_mode": {
    "name": "ipython",
    "version": 3
   },
   "file_extension": ".py",
   "mimetype": "text/x-python",
   "name": "python",
   "nbconvert_exporter": "python",
   "pygments_lexer": "ipython3",
   "version": "3.12.7"
  }
 },
 "nbformat": 4,
 "nbformat_minor": 5
}
