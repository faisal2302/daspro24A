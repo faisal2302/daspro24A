{
 "cells": [
  {
   "cell_type": "code",
   "execution_count": null,
   "id": "c03e8fd1-e429-4e65-8c58-42bb6a9713f0",
   "metadata": {},
   "outputs": [
    {
     "name": "stdout",
     "output_type": "stream",
     "text": [
      "===== OPSI =====\n",
      "1. Tambahkan Data\n",
      "2. Tampilkan Data\n",
      "3. Exit\n"
     ]
    },
    {
     "name": "stdin",
     "output_type": "stream",
     "text": [
      "Pilih menu (1-3):  1\n",
      "Masukkan NIM:  20240040037\n",
      "Masukkan Nama:  faisal\n",
      "Masukkan Alamat:  jl.siliwangi\n",
      "Masukkan Kelas:  ti24\n"
     ]
    },
    {
     "name": "stdout",
     "output_type": "stream",
     "text": [
      "===== OPSI =====\n",
      "1. Tambahkan Data\n",
      "2. Tampilkan Data\n",
      "3. Exit\n"
     ]
    },
    {
     "name": "stdin",
     "output_type": "stream",
     "text": [
      "Pilih menu (1-3):  1\n",
      "Masukkan NIM:  20240040066\n",
      "Masukkan Nama:  samuel\n",
      "Masukkan Alamat:  seijcscsvrs\n",
      "Masukkan Kelas:  ti24\n"
     ]
    },
    {
     "name": "stdout",
     "output_type": "stream",
     "text": [
      "===== OPSI =====\n",
      "1. Tambahkan Data\n",
      "2. Tampilkan Data\n",
      "3. Exit\n"
     ]
    },
    {
     "name": "stdin",
     "output_type": "stream",
     "text": [
      "Pilih menu (1-3):  2\n"
     ]
    },
    {
     "name": "stdout",
     "output_type": "stream",
     "text": [
      "\n",
      "NIM = 20240040037\n",
      "Nama = faisal\n",
      "Alamat = jl.siliwangi\n",
      "Kelas = TI24\n",
      "\n",
      "NIM = 20240040066\n",
      "Nama = samuel\n",
      "Alamat = seijcscsvrs\n",
      "Kelas = TI24\n",
      "\n",
      "===== OPSI =====\n",
      "1. Tambahkan Data\n",
      "2. Tampilkan Data\n",
      "3. Exit\n"
     ]
    }
   ],
   "source": [
    "while True:\n",
    "    print(\"===== OPSI =====\")\n",
    "    print(\"1. Tambahkan Data\")\n",
    "    print(\"2. Tampilkan Data\")\n",
    "    print(\"3. Exit\")\n",
    "\n",
    "    pilihan = input(\"Pilih menu (1-3): \")\n",
    "    \n",
    "    if pilihan == \"1\":\n",
    "        nim = input(\"Masukkan NIM: \") #bila di setting integer di awal, akan error ketika input bukan int\n",
    "        nama = input(\"Masukkan Nama: \")\n",
    "        alamat = input(\"Masukkan Alamat: \")\n",
    "        kelas = input(\"Masukkan Kelas: \").upper()\n",
    "            \n",
    "        if nim.isdigit():\n",
    "            if len(nama) > 5:\n",
    "                if len(alamat) > 10:\n",
    "                    if kelas in [\"TI23\", \"TI24\"]:\n",
    "                        with open(\"dataMahasiswa.txt\", \"a\") as file:\n",
    "                            file.write(f\"\\nNIM = {nim}\\nNama = {nama}\\nAlamat = {alamat}\\nKelas = {kelas}\\n\")\n",
    "                    else :\n",
    "                        print(\"Kelas harus TI23 atau TI24\")\n",
    "                else : \n",
    "                    print(\"Alamat minimal 10 huruf\")\n",
    "            else :\n",
    "                print(\"Panjang Nama minimal 5 huruf\")\n",
    "        else :\n",
    "            print(\"NIM bukan Numerik\")\n",
    "    \n",
    "    elif pilihan == \"2\":\n",
    "        try:\n",
    "            f = open(\"dataMahasiswa.txt\", \"r\")\n",
    "            baris = f.read()\n",
    "\n",
    "        except FileNotFound:\n",
    "            print(\"File Tidak Ditemukan!\")\n",
    "\n",
    "        else :\n",
    "            print(baris)\n",
    "                \n",
    "    elif pilihan == \"3\":\n",
    "        print(\"Terima kasih!\")\n",
    "        break\n",
    "    else:\n",
    "        print(\"Pilihan tidak valid.\")\n"
   ]
  },
  {
   "cell_type": "code",
   "execution_count": null,
   "id": "742f0882-f15a-4aa6-8624-115122c9ddb5",
   "metadata": {},
   "outputs": [],
   "source": []
  }
 ],
 "metadata": {
  "kernelspec": {
   "display_name": "Python [conda env:base] *",
   "language": "python",
   "name": "conda-base-py"
  },
  "language_info": {
   "codemirror_mode": {
    "name": "ipython",
    "version": 3
   },
   "file_extension": ".py",
   "mimetype": "text/x-python",
   "name": "python",
   "nbconvert_exporter": "python",
   "pygments_lexer": "ipython3",
   "version": "3.12.7"
  }
 },
 "nbformat": 4,
 "nbformat_minor": 5
}
