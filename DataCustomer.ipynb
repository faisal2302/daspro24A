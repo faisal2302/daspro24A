{
 "cells": [
  {
   "cell_type": "markdown",
   "id": "7e44aa48",
   "metadata": {},
   "source": [
    "<b>Project Data Customer</b><br>\n",
    "Buatlah data customer sebanyak 1000 yang akan digunakan untuk prediksi:<br>\n",
    "<ol>\n",
    "    <li>Usia : 18 - 60</li>\n",
    "    <li>Gender : L/P -> L(1),P(0)</li>\n",
    "    <li>Transaksi per Bulan : 0-50</li>\n",
    "    <li>Kategori Pembayaran : Buruk, Sedang, Bagus</li>\n",
    "</ol>"
   ]
  },
  {
   "cell_type": "code",
   "execution_count": 17,
   "id": "5e131945",
   "metadata": {},
   "outputs": [
    {
     "name": "stdout",
     "output_type": "stream",
     "text": [
      "     Usia  Gender  Transaksi /Bulan Kategori Bayar\n",
      "0      23       1                28         Sedang\n",
      "1      53       1                35         Sedang\n",
      "2      50       1                14         Sedang\n",
      "3      55       0                41         Sedang\n",
      "4      36       1                25          Buruk\n",
      "..    ...     ...               ...            ...\n",
      "995    29       1                10          Buruk\n",
      "996    38       0                16         Sedang\n",
      "997    55       0                39         Sedang\n",
      "998    48       1                44          Bagus\n",
      "999    55       1                 6         Sedang\n",
      "\n",
      "[1000 rows x 4 columns]\n",
      "<class 'pandas.core.frame.DataFrame'>\n",
      "RangeIndex: 1000 entries, 0 to 999\n",
      "Data columns (total 4 columns):\n",
      " #   Column            Non-Null Count  Dtype \n",
      "---  ------            --------------  ----- \n",
      " 0   Usia              1000 non-null   int32 \n",
      " 1   Gender            1000 non-null   int32 \n",
      " 2   Transaksi /Bulan  1000 non-null   int32 \n",
      " 3   Kategori Bayar    1000 non-null   object\n",
      "dtypes: int32(3), object(1)\n",
      "memory usage: 19.7+ KB\n",
      "None\n",
      "   Usia  Gender  Transaksi /Bulan Kategori Bayar\n",
      "0    23       1                28         Sedang\n",
      "1    53       1                35         Sedang\n",
      "2    50       1                14         Sedang\n",
      "3    55       0                41         Sedang\n",
      "4    36       1                25          Buruk\n",
      "Usia Customer yang termuda : 18\n",
      "470.0\n",
      "470\n"
     ]
    }
   ],
   "source": [
    "import numpy as np\n",
    "import pandas as pd\n",
    "\n",
    "n_data = 1000\n",
    "\n",
    "usia = np.random.randint(18,61,size=n_data)\n",
    "gender = np.random.randint(0,2,size=n_data)\n",
    "transaksi = np.random.randint(0,51,size=n_data)\n",
    "kategori = np.random.choice(['Buruk','Sedang','Bagus'],size=n_data)\n",
    "\n",
    "df = pd.DataFrame({\n",
    "    'Usia' : usia,\n",
    "    'Gender' : gender,\n",
    "    'Transaksi /Bulan' : transaksi,\n",
    "    'Kategori Bayar' : kategori\n",
    "})\n",
    "\n",
    "print(df)\n",
    "print(df.info())\n",
    "print(df.head()) #mengetahui isi 5 baris pertama dari data\n",
    "print(f\"Usia Customer yang termuda : {df['Usia'].min()}\")\n",
    "jmlL = df[df['Gender']== 1]\n",
    "print(jmlL.size/4)\n",
    "print(jmlL['Gender'].size)\n",
    "df.to_csv('dataCustomer.csv')"
   ]
  },
  {
   "cell_type": "code",
   "execution_count": null,
   "id": "c4adbe26",
   "metadata": {},
   "outputs": [],
   "source": []
  }
 ],
 "metadata": {
  "kernelspec": {
   "display_name": "Python 3 (ipykernel)",
   "language": "python",
   "name": "python3"
  },
  "language_info": {
   "codemirror_mode": {
    "name": "ipython",
    "version": 3
   },
   "file_extension": ".py",
   "mimetype": "text/x-python",
   "name": "python",
   "nbconvert_exporter": "python",
   "pygments_lexer": "ipython3",
   "version": "3.9.12"
  }
 },
 "nbformat": 4,
 "nbformat_minor": 5
}
