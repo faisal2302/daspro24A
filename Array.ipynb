{
 "cells": [
  {
   "cell_type": "code",
   "execution_count": 2,
   "id": "bfcac514",
   "metadata": {},
   "outputs": [],
   "source": [
    "import numpy as np"
   ]
  },
  {
   "cell_type": "code",
   "execution_count": 3,
   "id": "4fd5cefe",
   "metadata": {},
   "outputs": [
    {
     "name": "stdout",
     "output_type": "stream",
     "text": [
      "Array mat1D : [1 2 3 4 5 6 7 8 9]\n",
      "Array mat1D + 10 :[11 12 13 14 15 16 17 18 19]\n",
      "Array mat1D indeks ke 2 :3\n"
     ]
    }
   ],
   "source": [
    "mat1D = np.array([1,2,3,4,5,6,7,8,9])\n",
    "print(f\"Array mat1D : {mat1D}\")\n",
    "print(f\"Array mat1D + 10 :{mat1D + 10}\")\n",
    "print(f\"Array mat1D indeks ke 2 :{mat1D[2]}\")"
   ]
  },
  {
   "cell_type": "code",
   "execution_count": 5,
   "id": "f674e91c",
   "metadata": {},
   "outputs": [
    {
     "name": "stdout",
     "output_type": "stream",
     "text": [
      "Array mat2D : [[1 2 3]\n",
      " [4 5 6]\n",
      " [7 8 9]]\n",
      "Array mat2D * 10:[[10 20 30]\n",
      " [40 50 60]\n",
      " [70 80 90]]\n",
      "Array mat2D indeks ke 2:[7 8 9]\n",
      "Array mat2D indeks ke 2:50\n"
     ]
    }
   ],
   "source": [
    "mat2D = np.array([[1,2,3],[4,5,6],[7,8,9]])\n",
    "print(f\"Array mat2D : {mat2D}\")\n",
    "print(f\"Array mat2D * 10:{mat2D * 10}\")\n",
    "print(f\"Array mat2D indeks ke 2:{mat2D[2]}\")\n",
    "print(f\"Array mat2D indeks ke 2:{mat2D[1][1] * 10}\")"
   ]
  },
  {
   "cell_type": "code",
   "execution_count": 6,
   "id": "5e4ada5e",
   "metadata": {},
   "outputs": [
    {
     "name": "stdout",
     "output_type": "stream",
     "text": [
      "(9,)\n",
      "(3, 3)\n"
     ]
    }
   ],
   "source": [
    "print(mat1D.shape) #Mengetahui bentuk matriks\n",
    "print(mat2D.shape)"
   ]
  },
  {
   "cell_type": "code",
   "execution_count": 7,
   "id": "1af2e3f4",
   "metadata": {},
   "outputs": [
    {
     "name": "stdout",
     "output_type": "stream",
     "text": [
      "9\n",
      "9\n"
     ]
    }
   ],
   "source": [
    "print(mat1D.size) #Mengetahui ukuran dari matrtiks\n",
    "print(mat2D.size)"
   ]
  },
  {
   "cell_type": "code",
   "execution_count": 18,
   "id": "d7252a41",
   "metadata": {},
   "outputs": [
    {
     "name": "stdout",
     "output_type": "stream",
     "text": [
      "Matriks mZero :\n",
      " [[0. 0. 0. 0. 0.]\n",
      " [0. 0. 0. 0. 0.]\n",
      " [0. 0. 0. 0. 0.]]\n",
      "Matriks mOne :\n",
      " [[1. 1. 1. 1.]\n",
      " [1. 1. 1. 1.]\n",
      " [1. 1. 1. 1.]\n",
      " [1. 1. 1. 1.]]\n",
      "Matriks mIdentity :\n",
      " [[1. 0. 0. 0. 0.]\n",
      " [0. 1. 0. 0. 0.]\n",
      " [0. 0. 1. 0. 0.]\n",
      " [0. 0. 0. 1. 0.]\n",
      " [0. 0. 0. 0. 1.]]\n",
      "Matriks mFull :\n",
      " [[7 7 7]\n",
      " [7 7 7]\n",
      " [7 7 7]]\n",
      "Matriks mF1Random :\n",
      " [0.04199352 0.66474978 0.61411241 0.39434069 0.02436776]\n",
      "Matriks mF2Random :\n",
      " [[0.39588094 0.1992718  0.7012827  0.54871893 0.70116779]\n",
      " [0.40481035 0.83230891 0.77283486 0.50927345 0.32983828]\n",
      " [0.45781246 0.97973081 0.80056594 0.16591127 0.82866362]\n",
      " [0.45503567 0.40735186 0.47553383 0.93467465 0.75969383]\n",
      " [0.68255002 0.55065015 0.62208171 0.45521986 0.54572493]]\n",
      "Matriks mI1Random :\n",
      " [21 67 99 35 43 76 33 13 59 61]\n",
      "Matriks mI2Random :\n",
      " [[16 20 35 43]\n",
      " [53 15 64 26]\n",
      " [38 24 29 58]\n",
      " [39 67 87 12]]\n"
     ]
    }
   ],
   "source": [
    "#Special matriks\n",
    "mZero = np.zeros((3,5)) #matriks dengan nilai 0\n",
    "mOne = np.ones((4,4)) #matriks dengan nilai 1\n",
    "mIdentity = np.eye((5)) #matriks diagonal 1 lainnya 0\n",
    "mFull = np.full((3,3),7) #matriks dengan nilai yang sama\n",
    "mF1Random = np.random.rand(5) #matriks dengan nilai acak float 5 kolom\n",
    "mF2Random = np.random.rand(5,5) #matriks dengan nilai acak float 5 kolom\n",
    "mI1Random = np.random.randint(10,100,size=10)\n",
    "mI2Random = np.random.randint(1,100,size=(4,4))\n",
    "\n",
    "print(f\"Matriks mZero :\\n {mZero}\")\n",
    "print(f\"Matriks mOne :\\n {mOne}\")\n",
    "print(f\"Matriks mIdentity :\\n {mIdentity}\")\n",
    "print(f\"Matriks mFull :\\n {mFull}\")\n",
    "print(f\"Matriks mF1Random :\\n {mF1Random}\")\n",
    "print(f\"Matriks mF2Random :\\n {mF2Random}\")\n",
    "print(f\"Matriks mI1Random :\\n {mI1Random}\")\n",
    "print(f\"Matriks mI2Random :\\n {mI2Random}\")"
   ]
  },
  {
   "cell_type": "code",
   "execution_count": 22,
   "id": "46c238e6",
   "metadata": {},
   "outputs": [
    {
     "name": "stdout",
     "output_type": "stream",
     "text": [
      "Hasil perkalian dot product : 32\n",
      "Hasil penjumlahan matriks :\n",
      " [5 7 9]\n",
      "Hasil dot product dengan 3 :\n",
      " [3 6 9]\n"
     ]
    }
   ],
   "source": [
    "#Aritmatic Array\n",
    "x = np.array([1,2,3])\n",
    "y = np.array([4,5,6])\n",
    "r1 = np.dot (x,y) #perkalian dot product -> hasilnya adalah nilai skalar\n",
    "r2 = np.add (x,y) #penjumlahan matriks dimana ordonya harus sama\n",
    "r3 = np.dot (x,3) \n",
    "\n",
    "print(F\"Hasil perkalian dot product : {r1}\")\n",
    "print(F\"Hasil penjumlahan matriks :\\n {r2}\")\n",
    "print(F\"Hasil dot product dengan 3 :\\n {r3}\")"
   ]
  },
  {
   "cell_type": "code",
   "execution_count": 27,
   "id": "d8307836",
   "metadata": {},
   "outputs": [
    {
     "name": "stdout",
     "output_type": "stream",
     "text": [
      "Nilai Pemrograman :\n",
      " [100  90  80  80  50  50  50  40]\n",
      "Nilai Terkecil :40\n",
      "Nilai Terbesar :100\n",
      "Nilai Rata-rata :67.5\n",
      "Total Nilai :540\n",
      "Nilai Tengah :65.0\n",
      "Nilai Deviasi :21.065374432940896\n",
      "[100  90  80  80]\n",
      "Jumlah siswa yang lulus :4\n"
     ]
    }
   ],
   "source": [
    "#Fungsi statistik dasar\n",
    "nilaiPemrograman = np.array ([100,90,80,80,50,50,50,40])\n",
    "nilaiMin = np.min(nilaiPemrograman)\n",
    "nilaiMax = np.max(nilaiPemrograman)\n",
    "nilaiMean = np.mean(nilaiPemrograman)\n",
    "nilaiSum = np.sum(nilaiPemrograman)\n",
    "nilaiMedian = np.median(nilaiPemrograman)\n",
    "nilaiStd = np.std(nilaiPemrograman)\n",
    "\n",
    "print(f\"Nilai Pemrograman :\\n {nilaiPemrograman}\")\n",
    "print(f\"Nilai Terkecil :{nilaiMin}\")\n",
    "print(f\"Nilai Terbesar :{nilaiMax}\")\n",
    "print(f\"Nilai Rata-rata :{nilaiMean}\")\n",
    "print(f\"Total Nilai :{nilaiSum}\")\n",
    "print(f\"Nilai Tengah :{nilaiMedian}\")\n",
    "print(f\"Nilai Deviasi :{nilaiStd}\")\n",
    "\n",
    "#Filtering\n",
    "#Mencari jumlah mahasiswa yang lulus -> nilai > 50\n",
    "dataLulus = nilaiPemrograman[nilaiPemrograman > 50]\n",
    "print(dataLulus)\n",
    "print(f\"Jumlah siswa yang lulus :{dataLulus.size}\")"
   ]
  },
  {
   "cell_type": "code",
   "execution_count": null,
   "id": "1c6bbc96",
   "metadata": {},
   "outputs": [],
   "source": []
  }
 ],
 "metadata": {
  "kernelspec": {
   "display_name": "Python 3 (ipykernel)",
   "language": "python",
   "name": "python3"
  },
  "language_info": {
   "codemirror_mode": {
    "name": "ipython",
    "version": 3
   },
   "file_extension": ".py",
   "mimetype": "text/x-python",
   "name": "python",
   "nbconvert_exporter": "python",
   "pygments_lexer": "ipython3",
   "version": "3.9.12"
  }
 },
 "nbformat": 4,
 "nbformat_minor": 5
}
