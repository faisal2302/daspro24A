{
 "cells": [
  {
   "cell_type": "code",
   "execution_count": 2,
   "id": "728d67a5",
   "metadata": {},
   "outputs": [
    {
     "name": "stdout",
     "output_type": "stream",
     "text": [
      "Nama : Dedi\n",
      "Umur : 20\n",
      "Alamat : jl.cibolang\n",
      "Nilai Pemrograman : 80.5\n",
      "Status Menikah : False\n"
     ]
    }
   ],
   "source": [
    "name = \"Dedi\"\n",
    "age = 20\n",
    "address,province = \"jl.cibolang\",\"7413412\"\n",
    "scorePython = 80.5\n",
    "isMarried = False\n",
    "\n",
    "print(\"Nama :\", name)\n",
    "print(\"Umur :\", age)\n",
    "print(\"Alamat :\", address)\n",
    "print(\"Nilai Pemrograman :\", scorePython)\n",
    "print(\"Status Menikah :\", isMarried)"
   ]
  },
  {
   "cell_type": "code",
   "execution_count": 3,
   "id": "678ad9e7",
   "metadata": {},
   "outputs": [
    {
     "name": "stdout",
     "output_type": "stream",
     "text": [
      "Tipe Data <name> <class 'str'>\n",
      "Tipe Data <age> <class 'int'>\n",
      "Tipe Data <address> <class 'str'>\n",
      "Tipe Data <province> <class 'str'>\n",
      "Tipe Data <scorePyhon> <class 'float'>\n",
      "Tipe Data <isMarried> <class 'bool'>\n"
     ]
    }
   ],
   "source": [
    "print(\"Tipe Data <name>\", type(name))\n",
    "print(\"Tipe Data <age>\", type(age))\n",
    "print(\"Tipe Data <address>\", type(address))\n",
    "print(\"Tipe Data <province>\", type(province))\n",
    "print(\"Tipe Data <scorePyhon>\", type(scorePython))\n",
    "print(\"Tipe Data <isMarried>\", type(isMarried))"
   ]
  },
  {
   "cell_type": "code",
   "execution_count": 8,
   "id": "429dc18d",
   "metadata": {},
   "outputs": [
    {
     "name": "stdout",
     "output_type": "stream",
     "text": [
      "7413412-7413412.0-True\n",
      "20-20.0-True\n",
      "80.5-80-True\n",
      "0-0.0-False\n"
     ]
    }
   ],
   "source": [
    "#Casting atau konversi Tipe Data\n",
    "#Konversi dari String ke(int,float,bool)\n",
    "strToInt = int(province)\n",
    "strToFloat = float(province)\n",
    "strToBool = bool (province)\n",
    "print(strToInt,strToFloat,strToBool, sep=\"-\")\n",
    "#Konversi dari int ke(str,float,bool)\n",
    "intToStr = str(age)\n",
    "intToFloat = float(age)\n",
    "intToBool = bool(age)\n",
    "print(intToStr,intToFloat,intToBool, sep=\"-\")\n",
    "#Konversi dari float ke(str,int,bool)\n",
    "floatToStr = str(scorePython)\n",
    "floatToInt = int(scorePython)\n",
    "floatToBool = bool(scorePython)\n",
    "print(floatToStr,floatToInt,floatToBool, sep=\"-\")\n",
    "#Konversi dari bool ke(int,float,str)\n",
    "boolToInt = int(isMarried)\n",
    "boolToFloat = float(isMarried)\n",
    "boolToStr = str(isMarried)\n",
    "print(boolToInt,boolToFloat,boolToStr, sep=\"-\")"
   ]
  },
  {
   "cell_type": "code",
   "execution_count": 16,
   "id": "37b1037c",
   "metadata": {},
   "outputs": [
    {
     "name": "stdout",
     "output_type": "stream",
     "text": [
      "S\n",
      "i\n"
     ]
    }
   ],
   "source": [
    "city = \"Sukabumi\"\n",
    "lenCity = len(city)\n",
    "print(city[0])\n",
    "print(city[lenCity-1])\n"
   ]
  },
  {
   "cell_type": "code",
   "execution_count": 22,
   "id": "4603a450",
   "metadata": {},
   "outputs": [
    {
     "name": "stdout",
     "output_type": "stream",
     "text": [
      "Nilai Desimal : 200\n",
      "Nilai Desimal dari 0xff : 255\n",
      "Nilai Desimal dari 0b1010 : 10\n",
      "Nilai Desimal dari 0o377 : 255\n",
      "===========================================\n",
      "Nilai Biner dari : 200 0b11001000\n",
      "Nilai Octal dari : 200 0o310\n",
      "Nilai Hexa dari : 200 0xc8\n"
     ]
    }
   ],
   "source": [
    "desimal = 200\n",
    "hexa = 0xff\n",
    "biner = 0b1010\n",
    "octal = 0o377\n",
    "\n",
    "print(\"Nilai Desimal :\",desimal)\n",
    "print(\"Nilai Desimal dari 0xff :\",hexa)\n",
    "print(\"Nilai Desimal dari 0b1010 :\",biner)\n",
    "print(\"Nilai Desimal dari 0o377 :\",octal)\n",
    "print(\"===========================================\")\n",
    "\n",
    "print(\"Nilai Biner dari :\", desimal, bin(desimal))\n",
    "print(\"Nilai Octal dari :\", desimal, oct(desimal))\n",
    "print(\"Nilai Hexa dari :\", desimal, hex(desimal))"
   ]
  },
  {
   "cell_type": "code",
   "execution_count": 42,
   "id": "e5dac005",
   "metadata": {},
   "outputs": [
    {
     "name": "stdout",
     "output_type": "stream",
     "text": [
      "['Sukabumi', 'Bandung', 'Bogor', 'Jakarta']\n",
      "Sukabumi\n",
      "Jakarta\n",
      "['Sukabumi', 'Medan', 'Bogor', 'Jakarta']\n",
      "J\n",
      "('Andi', 'Budi', 'Caca')\n",
      "{'name': 'Dagul', 'address': {'street': 'warkir', 'number': 22, 'province': 'West Java'}, 'age': 33, 'isMarried': True}\n",
      "West Java\n",
      "{'name': 'Budi', 'address': {'street': 'cisaat', 'number': 23, 'province': 'West Java'}, 'age': 35, 'isMarried': False}\n",
      "Football\n",
      "33\n"
     ]
    }
   ],
   "source": [
    "#Tipe data Collection\n",
    "#List\n",
    "cities = [\"Sukabumi\",\"Bandung\",\"Bogor\",\"Jakarta\"]\n",
    "print(cities)\n",
    "print(cities[0])\n",
    "print(cities[len(cities)-1])\n",
    "cities[1] = \"Medan\"\n",
    "print(cities)\n",
    "print(cities[len(cities)-1][0])\n",
    "\n",
    "#Tuple\n",
    "names = (\"Andi\",\"Budi\",\"Caca\")\n",
    "print(names)\n",
    "#names[0] = \"Rudi\" akan menyebabkan error, karena tuple adalah immutable\n",
    "\n",
    "#Dictionary\n",
    "studentData = {\n",
    "    \"name\" : \"Dagul\",\n",
    "    \"address\" : {\n",
    "        \"street\" : \"warkir\",\n",
    "        \"number\" : 22,\n",
    "        \"province\" : \"West Java\"\n",
    "    },\n",
    "    \"age\" : 33,\n",
    "    \"isMarried\" : True\n",
    "}\n",
    "\n",
    "#List of Dictionary\n",
    "listStudent = [\n",
    "        {\n",
    "        \"name\" : \"Dagul\",\n",
    "        \"address\" : {\n",
    "            \"street\" : \"warkir\",\n",
    "            \"number\" : 22,\n",
    "            \"province\" : \"West Java\"\n",
    "        },\n",
    "        \"hobbies\":[\"Basket\",\"Football\"],\n",
    "        \"age\" : 33,\n",
    "        \"isMarried\" : True\n",
    "    },\n",
    "    {\n",
    "        \"name\" : \"Budi\",\n",
    "        \"address\" : {\n",
    "            \"street\" : \"cisaat\",\n",
    "            \"number\" : 23,\n",
    "            \"province\" : \"West Java\"\n",
    "        },\n",
    "        \"age\" : 35,\n",
    "        \"isMarried\" : False\n",
    "    }\n",
    "\n",
    "    \n",
    "\n",
    "]\n",
    "\n",
    "print(studentData)\n",
    "print(studentData[\"address\"][\"province\"]) #West Java\n",
    "print(listStudent[1]) #Semua data dari Budi\n",
    "print(listStudent[0][\"hobbies\"][1]) #Football - hobi Dagul urutan ke 2\n",
    "print(listStudent[0][\"age\"]) #Umur Dagul"
   ]
  },
  {
   "cell_type": "code",
   "execution_count": 52,
   "id": "9b6567e2",
   "metadata": {},
   "outputs": [
    {
     "name": "stdout",
     "output_type": "stream",
     "text": [
      "{'name': 'Dika', 'nilai': 80}\n",
      "{'Buah': 'Apel', 'Harga': 10000}\n",
      "{'Matkul': 'Aljabar', 'Sks': 3}\n",
      "{'Mere': 'Samsung', 'Harga': 20000}\n",
      "{'name': 'Adi', 'age': '21', 'address': 'Bekasi'}\n"
     ]
    }
   ],
   "source": [
    "#Casting dicionary\n",
    "\n",
    "list_tuple = [(\"name\",\"Dika\"),(\"nilai\",80)]\n",
    "dictStudent = dict(list_tuple)\n",
    "print(dictStudent)\n",
    "\n",
    "list_list = [[\"Buah\",\"Apel\"],[\"Harga\",10000]]\n",
    "dictBuah = dict(list_list)\n",
    "print(dictBuah)\n",
    "\n",
    "tuple_tuple =((\"Matkul\",\"Aljabar\"),(\"Sks\",3))\n",
    "dictMatkul = dict(tuple_tuple)\n",
    "print(dictMatkul)\n",
    "\n",
    "tuple_list = ([\"Mere\",\"Samsung\"],[\"Harga\",20000])\n",
    "dictMerk = dict(tuple_list)\n",
    "print(dictMerk)\n",
    "\n",
    "keys = [\"name\",\"age\",\"address\"]\n",
    "values = [\"Adi\",\"21\",\"Bekasi\"]\n",
    "\n",
    "dictData = dict(zip(keys,values))\n",
    "print(dictData)"
   ]
  },
  {
   "cell_type": "code",
   "execution_count": null,
   "id": "c3b8bafb",
   "metadata": {},
   "outputs": [],
   "source": []
  }
 ],
 "metadata": {
  "kernelspec": {
   "display_name": "Python 3 (ipykernel)",
   "language": "python",
   "name": "python3"
  },
  "language_info": {
   "codemirror_mode": {
    "name": "ipython",
    "version": 3
   },
   "file_extension": ".py",
   "mimetype": "text/x-python",
   "name": "python",
   "nbconvert_exporter": "python",
   "pygments_lexer": "ipython3",
   "version": "3.9.12"
  }
 },
 "nbformat": 4,
 "nbformat_minor": 5
}
